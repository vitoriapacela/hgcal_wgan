{
 "cells": [
  {
   "cell_type": "code",
   "execution_count": 1,
   "metadata": {},
   "outputs": [
    {
     "name": "stdout",
     "output_type": "stream",
     "text": [
      "setGPU: Setting GPU to: 0\n"
     ]
    },
    {
     "name": "stderr",
     "output_type": "stream",
     "text": [
      "/usr/local/lib/python3.5/dist-packages/h5py/__init__.py:34: FutureWarning: Conversion of the second argument of issubdtype from `float` to `np.floating` is deprecated. In future, it will be treated as `np.float64 == np.dtype(float).type`.\n",
      "  from ._conv import register_converters as _register_converters\n"
     ]
    }
   ],
   "source": [
    "%matplotlib inline\n",
    "\n",
    "import setGPU\n",
    "import os, h5py\n",
    "import numpy as np\n",
    "import matplotlib\n",
    "import matplotlib.pyplot as plt\n",
    "import matplotlib.cm as cm\n",
    "from matplotlib.colors import LogNorm, Normalize\n",
    "import glob"
   ]
  },
  {
   "cell_type": "code",
   "execution_count": 42,
   "metadata": {},
   "outputs": [],
   "source": [
    "from scipy.stats import skew"
   ]
  },
  {
   "cell_type": "code",
   "execution_count": 41,
   "metadata": {},
   "outputs": [],
   "source": [
    "from scipy.stats import kurtosis"
   ]
  },
  {
   "cell_type": "code",
   "execution_count": 2,
   "metadata": {},
   "outputs": [],
   "source": [
    "def loadModel(name, weights=False):\n",
    "    '''\n",
    "    Adapted from Kaustuv Datta and Jayesh Mahapatra's CaloImageMacros.\n",
    "    Loads models from json file.\n",
    "    :parameter name: name of the json file.\n",
    "    :type name: str\n",
    "    :parameter weights: whether or not to load the weights.\n",
    "    :type weights: bool\n",
    "    :return: loaded model.\n",
    "    '''\n",
    "    from keras.models import model_from_json\n",
    "    json_file = open('%s' % name, 'r')\n",
    "    loaded = json_file.read()\n",
    "    json_file.close()\n",
    "\n",
    "    model = model_from_json(loaded)\n",
    "\n",
    "    # load weights into new model\n",
    "    if weights == True:\n",
    "        model.load_weights('%s.h5' % name)\n",
    "    # print(model.summary())\n",
    "\n",
    "    #print(\"Loaded model from disk\")\n",
    "    return model"
   ]
  },
  {
   "cell_type": "code",
   "execution_count": 3,
   "metadata": {},
   "outputs": [],
   "source": [
    "latent_space=100\n",
    "batch_size=128\n",
    "\n",
    "noise = np.random.normal(0, 1, (batch_size, latent_space))"
   ]
  },
  {
   "cell_type": "code",
   "execution_count": 4,
   "metadata": {},
   "outputs": [],
   "source": [
    "def getMetric(all_g_weight, gen_model):\n",
    "    g = loadModel(gen_model)\n",
    "\n",
    "    means = []\n",
    "    stds = []\n",
    "    epochs = []\n",
    "\n",
    "    for w in glob.glob(all_g_weight):\n",
    "        epoch = w.split('/')[-1].split('_')[3]\n",
    "\n",
    "        g.load_weights(w)\n",
    "        generated_images = g.predict(noise)\n",
    "        generated_images = generated_images.squeeze()\n",
    "\n",
    "        means.append(np.mean(generated_images))\n",
    "        stds.append(np.std(generated_images))\n",
    "        epochs.append(int(epoch))\n",
    "    \n",
    "    return means, stds, epochs"
   ]
  },
  {
   "cell_type": "code",
   "execution_count": 5,
   "metadata": {},
   "outputs": [],
   "source": [
    "#all_g_weight1 = '/nfshome/vitoriabp/Keras-GAN/wgan/trial2_batch_size_32_epochs_4000/weights/generator_weights_epoch_*.h5'\n",
    "#gen_model1 = '/nfshome/vitoriabp/Keras-GAN/wgan/trial2_batch_size_32_epochs_4000/weights/generator_modeltrial2.json'"
   ]
  },
  {
   "cell_type": "code",
   "execution_count": 9,
   "metadata": {},
   "outputs": [],
   "source": [
    "all_g_weight2 = '/nfshome/vitoriabp/Keras-GAN/wgan/trial3_batch_size_128_epochs_2000/weights/generator_weights_epoch_*.h5'\n",
    "gen_model2 = '/nfshome/vitoriabp/Keras-GAN/wgan/trial3_batch_size_128_epochs_2000/weights/generator_modeltrial3_bs_128.json'"
   ]
  },
  {
   "cell_type": "code",
   "execution_count": 8,
   "metadata": {},
   "outputs": [],
   "source": [
    "#all_g_weight2 = '/nfshome/vitoriabp/hgcal_wgan/trial22/weights/generator_weights_epoch_*.h5'\n",
    "#gen_model2 = '/nfshome/vitoriabp/hgcal_wgan/trial22/weights/generator_model_bs_128_lr_0.00005_latent_100_ncritic_5_clip_0.01_shuffle.json'"
   ]
  },
  {
   "cell_type": "code",
   "execution_count": 5,
   "metadata": {},
   "outputs": [],
   "source": [
    "all_g_weight1 = '/nfshome/vitoriabp/hgcal_wgan/trial23/weights/generator_weights_epoch_*.h5'\n",
    "gen_model1 = '/nfshome/vitoriabp/hgcal_wgan/trial23/weights/generator_model_bs_128_lr_0.00005_latent_100_ncritic_5_clip_0.01_shuffle.json'"
   ]
  },
  {
   "cell_type": "code",
   "execution_count": 6,
   "metadata": {},
   "outputs": [
    {
     "name": "stderr",
     "output_type": "stream",
     "text": [
      "Using TensorFlow backend.\n"
     ]
    }
   ],
   "source": [
    "means1, stds1, epochs1 = getMetric(all_g_weight1, gen_model1)"
   ]
  },
  {
   "cell_type": "code",
   "execution_count": 10,
   "metadata": {},
   "outputs": [],
   "source": [
    "means2, stds2, epochs2 = getMetric(all_g_weight2, gen_model2)"
   ]
  },
  {
   "cell_type": "code",
   "execution_count": 11,
   "metadata": {},
   "outputs": [],
   "source": [
    "def sortMeans(epochs, means):\n",
    "    epoch_mean = np.array([np.asarray(epochs), np.asarray(means)])\n",
    "    epoch_mean_sorted = (epoch_mean.T)[np.argsort(epoch_mean[0])]\n",
    "    return epoch_mean_sorted"
   ]
  },
  {
   "cell_type": "code",
   "execution_count": 12,
   "metadata": {},
   "outputs": [],
   "source": [
    "epoch_mean_sorted1 = sortMeans(epochs1, means1)"
   ]
  },
  {
   "cell_type": "code",
   "execution_count": 13,
   "metadata": {},
   "outputs": [],
   "source": [
    "epoch_mean_sorted2 = sortMeans(epochs2, means2)"
   ]
  },
  {
   "cell_type": "code",
   "execution_count": 143,
   "metadata": {},
   "outputs": [],
   "source": [
    "def plotMean(epoch_mean_sorted):\n",
    "    plt.scatter(epoch_mean_sorted[:,0], epoch_mean_sorted[:,1], alpha=0.6, color='blue')\n",
    "    plt.title(\"Mean energy generated\", size=16)\n",
    "    plt.xlabel(\"Epoch\", size=16)\n",
    "    plt.ylabel(\"$\\mu$ (GeV)\", size=16)\n",
    "    #plt.xlim(-50, 1000)\n",
    "    ## ACTIVATE YLIM\n",
    "    #plt.ylim(0, 0.05)\n",
    "    #plt.savefig(\"means.png\")\n",
    "    plt.errorbar(epoch_mean_sorted[:,0], epoch_mean_sorted[:,1], yerr=np.std(epoch_mean_sorted[:,1])/np.sqrt(len(epoch_mean_sorted[:,1])), color='orange', alpha = 0.3, fmt='o')"
   ]
  },
  {
   "cell_type": "code",
   "execution_count": 144,
   "metadata": {},
   "outputs": [
    {
     "data": {
      "image/png": "[encoded data removed]",
      "text/plain": [
       "<matplotlib.figure.Figure at 0x7fe1867d4eb8>"
      ]
     },
     "metadata": {},
     "output_type": "display_data"
    }
   ],
   "source": [
    "plotMean(epoch_mean_sorted1)"
   ]
  },
  {
   "cell_type": "code",
   "execution_count": 17,
   "metadata": {},
   "outputs": [],
   "source": [
    "def plotMeans(epoch_mean_sorted1, epoch_mean_sorted2):\n",
    "    plt.scatter(epoch_mean_sorted1[:,0], epoch_mean_sorted1[:,1], label=\"first\")\n",
    "    plt.scatter(epoch_mean_sorted2[:,0], epoch_mean_sorted2[:,1], label=\"second\")\n",
    "    plt.title(\"Mean energy generated\", size=16)\n",
    "    plt.xlabel(\"Epoch\", size=16)\n",
    "    plt.ylabel(\"$\\mu$ (GeV)\", size=16)\n",
    "    #plt.xlim(-50, 1000)\n",
    "    #plt.ylim(0, 1.5)\n",
    "    plt.legend()\n",
    "    #plt.savefig(\"means.png\")\n",
    "    #plt.errorbar(epoch_mean_sorted[:,0], epoch_mean_sorted[:,1], yerr=np.std(epoch_mean_sorted[:,1])/np.sqrt(len(epoch_mean_sorted[:,1])), color='grey', alpha = 0.5, fmt='o')"
   ]
  },
  {
   "cell_type": "code",
   "execution_count": 45,
   "metadata": {},
   "outputs": [],
   "source": [
    "#plotMeans(epoch_mean_sorted1, epoch_mean_sorted2)"
   ]
  },
  {
   "cell_type": "code",
   "execution_count": 19,
   "metadata": {},
   "outputs": [],
   "source": [
    "## No need to execute this again\n",
    "#f = h5py.File('/bigdata/shared/HGCAL_data/new/all_noPU.h5', 'r')\n",
    "#X = np.asarray(f['X'])\n",
    "#X = X.squeeze()"
   ]
  },
  {
   "cell_type": "code",
   "execution_count": 20,
   "metadata": {},
   "outputs": [],
   "source": [
    "## Should aim for:\n",
    "#np.mean(X) = 0.02"
   ]
  },
  {
   "cell_type": "code",
   "execution_count": 113,
   "metadata": {},
   "outputs": [],
   "source": [
    "def plotStd(epochs, stds):\n",
    "    plt.scatter(epochs, stds, alpha=0.5, color='green')\n",
    "    plt.title(\"Standard deviation of energy generated\", size=16)\n",
    "    plt.xlabel(\"Epoch\", size=16)\n",
    "    plt.ylabel(\"$\\sigma$ (GeV)\", size=16)\n",
    "    #plt.xlim(-50, 1000)\n",
    "    plt.ylim(0, 0.5)\n",
    "    #plt.savefig(\"stds.png\")"
   ]
  },
  {
   "cell_type": "code",
   "execution_count": 114,
   "metadata": {},
   "outputs": [
    {
     "data": {
      "image/png": "[encoded data removed]",
      "text/plain": [
       "<matplotlib.figure.Figure at 0x7fe186725a58>"
      ]
     },
     "metadata": {},
     "output_type": "display_data"
    }
   ],
   "source": [
    "plotStd(epochs1, stds1)"
   ]
  },
  {
   "cell_type": "code",
   "execution_count": 24,
   "metadata": {},
   "outputs": [],
   "source": [
    "def plotStds(epochs1, stds1, epochs2, stds2):\n",
    "    plt.scatter(epochs1, stds1, label=\"first\")\n",
    "    plt.scatter(epochs2, stds2, label=\"second\")\n",
    "    plt.title(\"Standard deviation of energy generated\", size=16)\n",
    "    plt.xlabel(\"Epoch\", size=16)\n",
    "    plt.ylabel(\"$\\sigma$ (GeV)\", size=16)\n",
    "    plt.xlim(-50, 1000)\n",
    "    #plt.ylim(0, 1)\n",
    "    plt.legend()\n",
    "    #plt.savefig(\"stds.png\")"
   ]
  },
  {
   "cell_type": "code",
   "execution_count": 44,
   "metadata": {},
   "outputs": [],
   "source": [
    "#plotStds(epochs1, stds1, epochs2, stds2)"
   ]
  },
  {
   "cell_type": "code",
   "execution_count": 42,
   "metadata": {},
   "outputs": [],
   "source": [
    "## Aim for:\n",
    "#np.std(X) = 0.36"
   ]
  },
  {
   "cell_type": "code",
   "execution_count": 66,
   "metadata": {},
   "outputs": [],
   "source": [
    "def getMetric(all_g_weight, gen_model):\n",
    "    g = loadModel(gen_model)\n",
    "\n",
    "    means = []\n",
    "    stds = []\n",
    "    epochs = []\n",
    "    variances = []\n",
    "    skews = []\n",
    "    kurtoses = []\n",
    "\n",
    "    for w in glob.glob(all_g_weight):\n",
    "        epoch = w.split('/')[-1].split('_')[3]\n",
    "\n",
    "        g.load_weights(w)\n",
    "        generated_images = g.predict(noise)\n",
    "        #generated_images = generated_images.squeeze()\n",
    "\n",
    "        means.append(np.mean(generated_images))\n",
    "        stds.append(np.std(generated_images))\n",
    "        epochs.append(int(epoch))\n",
    "        variances.append(np.var(generated_images))\n",
    "        skews.append(skew(generated_images, axis=None))\n",
    "        kurtoses.append(kurtosis(generated_images, axis=None))\n",
    "    \n",
    "    return means, stds, epochs, variances, skews, kurtoses"
   ]
  },
  {
   "cell_type": "code",
   "execution_count": 67,
   "metadata": {},
   "outputs": [],
   "source": [
    "means1, stds1, epochs1, vars1, skews1, kurtoses1 = getMetric(all_g_weight1, gen_model1)"
   ]
  },
  {
   "cell_type": "code",
   "execution_count": 109,
   "metadata": {},
   "outputs": [],
   "source": [
    "def plotVar(epochs, variances):\n",
    "    plt.scatter(epochs, variances, alpha=0.5, color='green')\n",
    "    plt.title(\"Variance of sample generated per epoch\", size=16)\n",
    "    plt.xlabel(\"Epoch\", size=16)\n",
    "    plt.ylabel(\"Var\", size=16)\n",
    "    #plt.xlim(-50, 1000)\n",
    "    #plt.ylim(0, 0.5)\n",
    "    #plt.savefig(\"stds.png\")"
   ]
  },
  {
   "cell_type": "code",
   "execution_count": 110,
   "metadata": {},
   "outputs": [
    {
     "data": {
      "image/png": "[encoded data removed]",
      "text/plain": [
       "<matplotlib.figure.Figure at 0x7fe186836898>"
      ]
     },
     "metadata": {},
     "output_type": "display_data"
    }
   ],
   "source": [
    "plotVar(epochs1, vars1)"
   ]
  },
  {
   "cell_type": "code",
   "execution_count": 105,
   "metadata": {},
   "outputs": [],
   "source": [
    "def plotSkew(epochs, skews):\n",
    "    plt.scatter(epochs, skews, alpha=0.5, color='green')\n",
    "    plt.title(\"Third moment of sample generated per epoch\", size=16)\n",
    "    plt.xlabel(\"Epoch\", size=16)\n",
    "    plt.ylabel(\"Skew\", size=16)\n",
    "    #plt.xlim(-50, 1000)\n",
    "    #plt.ylim(0, 0.5)\n",
    "    #plt.savefig(\"stds.png\")"
   ]
  },
  {
   "cell_type": "code",
   "execution_count": 106,
   "metadata": {},
   "outputs": [
    {
     "data": {
      "image/png": "[encoded data removed]",
      "text/plain": [
       "<matplotlib.figure.Figure at 0x7fe1868ed860>"
      ]
     },
     "metadata": {},
     "output_type": "display_data"
    }
   ],
   "source": [
    "plotSkew(epochs1, skews1)"
   ]
  },
  {
   "cell_type": "code",
   "execution_count": 111,
   "metadata": {},
   "outputs": [],
   "source": [
    "def plotKurtoses(epochs, kurtoses):\n",
    "    plt.scatter(epochs, kurtoses, alpha=0.5, color='green')\n",
    "    plt.title(\"Fourth moment of sample generated per epoch\", size=16)\n",
    "    plt.xlabel(\"Epoch\", size=16)\n",
    "    plt.ylabel(\"Kurtosis\", size=16)\n",
    "    #plt.xlim(-50, 1000)\n",
    "    #plt.ylim(0, 0.5)\n",
    "    #plt.savefig(\"stds.png\")"
   ]
  },
  {
   "cell_type": "code",
   "execution_count": 112,
   "metadata": {},
   "outputs": [
    {
     "data": {
      "image/png": "[encoded data removed]",
      "text/plain": [
       "<matplotlib.figure.Figure at 0x7fe1867a7b00>"
      ]
     },
     "metadata": {},
     "output_type": "display_data"
    }
   ],
   "source": [
    "plotKurtoses(epochs1, kurtoses1)"
   ]
  },
  {
   "cell_type": "markdown",
   "metadata": {},
   "source": [
    "# ------------ STOP EXECUTING HERE ------------------"
   ]
  },
  {
   "cell_type": "code",
   "execution_count": 68,
   "metadata": {},
   "outputs": [],
   "source": [
    "f = h5py.File('/bigdata/shared/HGCAL_data/new/all_noPU.h5', 'r')\n",
    "X = np.asarray(f['X'])\n",
    "X = X.squeeze()"
   ]
  },
  {
   "cell_type": "code",
   "execution_count": 69,
   "metadata": {},
   "outputs": [
    {
     "data": {
      "text/plain": [
       "(195386, 16, 16, 55)"
      ]
     },
     "execution_count": 69,
     "metadata": {},
     "output_type": "execute_result"
    }
   ],
   "source": [
    "X.shape"
   ]
  },
  {
   "cell_type": "code",
   "execution_count": 72,
   "metadata": {},
   "outputs": [
    {
     "data": {
      "text/plain": [
       "0.02276984"
      ]
     },
     "execution_count": 72,
     "metadata": {},
     "output_type": "execute_result"
    }
   ],
   "source": [
    "np.mean(X)"
   ]
  },
  {
   "cell_type": "code",
   "execution_count": 71,
   "metadata": {},
   "outputs": [
    {
     "data": {
      "text/plain": [
       "0.12619433"
      ]
     },
     "execution_count": 71,
     "metadata": {},
     "output_type": "execute_result"
    }
   ],
   "source": [
    "np.var(X)"
   ]
  },
  {
   "cell_type": "code",
   "execution_count": 73,
   "metadata": {},
   "outputs": [
    {
     "data": {
      "text/plain": [
       "0.3552384"
      ]
     },
     "execution_count": 73,
     "metadata": {},
     "output_type": "execute_result"
    }
   ],
   "source": [
    "np.std(X)"
   ]
  },
  {
   "cell_type": "code",
   "execution_count": 74,
   "metadata": {},
   "outputs": [
    {
     "data": {
      "text/plain": [
       "34.635719299316406"
      ]
     },
     "execution_count": 74,
     "metadata": {},
     "output_type": "execute_result"
    }
   ],
   "source": [
    "skew(X, axis=None)"
   ]
  },
  {
   "cell_type": "code",
   "execution_count": 75,
   "metadata": {},
   "outputs": [
    {
     "data": {
      "text/plain": [
       "1764.2194336137854"
      ]
     },
     "execution_count": 75,
     "metadata": {},
     "output_type": "execute_result"
    }
   ],
   "source": [
    "kurtosis(X, axis=None)"
   ]
  },
  {
   "cell_type": "code",
   "execution_count": null,
   "metadata": {},
   "outputs": [],
   "source": []
  }
 ],
 "metadata": {
  "kernelspec": {
   "display_name": "Python 3",
   "language": "python",
   "name": "python3"
  },
  "language_info": {
   "codemirror_mode": {
    "name": "ipython",
    "version": 3
   },
   "file_extension": ".py",
   "mimetype": "text/x-python",
   "name": "python",
   "nbconvert_exporter": "python",
   "pygments_lexer": "ipython3",
   "version": "3.5.2"
  }
 },
 "nbformat": 4,
 "nbformat_minor": 2
}
