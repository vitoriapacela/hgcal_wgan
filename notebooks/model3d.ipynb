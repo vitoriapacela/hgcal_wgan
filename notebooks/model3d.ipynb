{
 "cells": [
  {
   "cell_type": "code",
   "execution_count": 1,
   "metadata": {},
   "outputs": [
    {
     "name": "stdout",
     "output_type": "stream",
     "text": [
      "setGPU: Setting GPU to: 0\n"
     ]
    },
    {
     "name": "stderr",
     "output_type": "stream",
     "text": [
      "/usr/local/lib/python3.5/dist-packages/h5py/__init__.py:34: FutureWarning: Conversion of the second argument of issubdtype from `float` to `np.floating` is deprecated. In future, it will be treated as `np.float64 == np.dtype(float).type`.\n",
      "  from ._conv import register_converters as _register_converters\n",
      "Using TensorFlow backend.\n"
     ]
    }
   ],
   "source": [
    "import setGPU\n",
    "import h5py\n",
    "\n",
    "from keras.layers import Input, Dense, Reshape, Flatten, Dropout, LeakyReLU\n",
    "from keras.layers.convolutional import UpSampling2D, Conv2D, ZeroPadding2D, AveragePooling2D, UpSampling3D, Conv3D, ZeroPadding3D, AveragePooling3D\n",
    "from keras.layers import BatchNormalization, Activation\n",
    "from keras.layers.advanced_activations import LeakyReLU\n",
    "from keras.models import Sequential, Model\n",
    "from keras.optimizers import RMSprop\n",
    "\n",
    "import keras.backend as K\n",
    "\n",
    "import matplotlib\n",
    "matplotlib.use('Agg')\n",
    "import matplotlib.pyplot as plt\n",
    "import sys\n",
    "import numpy as np\n",
    "import os"
   ]
  },
  {
   "cell_type": "code",
   "execution_count": 8,
   "metadata": {},
   "outputs": [
    {
     "name": "stdout",
     "output_type": "stream",
     "text": [
      "_________________________________________________________________\n",
      "Layer (type)                 Output Shape              Param #   \n",
      "=================================================================\n",
      "dense_5 (Dense)              (None, 65536)             6619136   \n",
      "_________________________________________________________________\n",
      "reshape_5 (Reshape)          (None, 8, 8, 8, 128)      0         \n",
      "_________________________________________________________________\n",
      "conv3d_8 (Conv3D)            (None, 8, 8, 8, 128)      4718720   \n",
      "_________________________________________________________________\n",
      "leaky_re_lu_5 (LeakyReLU)    (None, 8, 8, 8, 128)      0         \n",
      "_________________________________________________________________\n",
      "batch_normalization_5 (Batch (None, 8, 8, 8, 128)      512       \n",
      "_________________________________________________________________\n",
      "up_sampling3d_5 (UpSampling3 (None, 16, 16, 16, 128)   0         \n",
      "_________________________________________________________________\n",
      "zero_padding3d_4 (ZeroPaddin (None, 16, 16, 20, 128)   0         \n",
      "_________________________________________________________________\n",
      "conv3d_9 (Conv3D)            (None, 16, 16, 11, 64)    81984     \n",
      "_________________________________________________________________\n",
      "leaky_re_lu_6 (LeakyReLU)    (None, 16, 16, 11, 64)    0         \n",
      "_________________________________________________________________\n",
      "batch_normalization_6 (Batch (None, 16, 16, 11, 64)    256       \n",
      "_________________________________________________________________\n",
      "up_sampling3d_6 (UpSampling3 (None, 16, 16, 55, 64)    0         \n",
      "_________________________________________________________________\n",
      "zero_padding3d_5 (ZeroPaddin (None, 18, 18, 55, 64)    0         \n",
      "_________________________________________________________________\n",
      "conv3d_10 (Conv3D)           (None, 16, 16, 55, 1)     577       \n",
      "_________________________________________________________________\n",
      "activation_3 (Activation)    (None, 16, 16, 55, 1)     0         \n",
      "=================================================================\n",
      "Total params: 11,421,185\n",
      "Trainable params: 11,420,801\n",
      "Non-trainable params: 384\n",
      "_________________________________________________________________\n"
     ]
    }
   ],
   "source": [
    "model = Sequential()\n",
    "\n",
    "model.add(Dense(128 * 8 * 8 * 8, activation=\"relu\", input_dim=100))\n",
    "\n",
    "model.add(Reshape((8, 8, 8, 128)))\n",
    "\n",
    "model.add(Conv3D(filters=128, kernel_size=(6, 6, 8), padding='same'))\n",
    "\n",
    "model.add(LeakyReLU())\n",
    "model.add(BatchNormalization(momentum=0.8))\n",
    "\n",
    "model.add(UpSampling3D(size=(2, 2, 2)))\n",
    "model.add(ZeroPadding3D(padding=(0, 0, 2)))\n",
    "model.add(Conv3D(filters=64, kernel_size=(1, 1, 10), padding='valid'))\n",
    "\n",
    "model.add(LeakyReLU())\n",
    "model.add(BatchNormalization(momentum=0.8))\n",
    "\n",
    "model.add(UpSampling3D(size=(1, 1, 5)))\n",
    "\n",
    "model.add(ZeroPadding3D(padding=(1, 1, 0)))\n",
    "\n",
    "model.add(Conv3D(filters=1, kernel_size=(3, 3, 1), padding='valid'))  \n",
    "\n",
    "model.add(Activation('relu'))\n",
    "\n",
    "model.summary()"
   ]
  },
  {
   "cell_type": "code",
   "execution_count": 7,
   "metadata": {},
   "outputs": [
    {
     "name": "stdout",
     "output_type": "stream",
     "text": [
      "_________________________________________________________________\n",
      "Layer (type)                 Output Shape              Param #   \n",
      "=================================================================\n",
      "dense_4 (Dense)              (None, 4096)              413696    \n",
      "_________________________________________________________________\n",
      "reshape_4 (Reshape)          (None, 8, 8, 8, 8)        0         \n",
      "_________________________________________________________________\n",
      "conv3d_5 (Conv3D)            (None, 8, 8, 8, 64)       147520    \n",
      "_________________________________________________________________\n",
      "leaky_re_lu_3 (LeakyReLU)    (None, 8, 8, 8, 64)       0         \n",
      "_________________________________________________________________\n",
      "batch_normalization_3 (Batch (None, 8, 8, 8, 64)       256       \n",
      "_________________________________________________________________\n",
      "up_sampling3d_3 (UpSampling3 (None, 16, 16, 16, 64)    0         \n",
      "_________________________________________________________________\n",
      "zero_padding3d_2 (ZeroPaddin (None, 16, 16, 20, 64)    0         \n",
      "_________________________________________________________________\n",
      "conv3d_6 (Conv3D)            (None, 16, 16, 11, 6)     3846      \n",
      "_________________________________________________________________\n",
      "leaky_re_lu_4 (LeakyReLU)    (None, 16, 16, 11, 6)     0         \n",
      "_________________________________________________________________\n",
      "batch_normalization_4 (Batch (None, 16, 16, 11, 6)     24        \n",
      "_________________________________________________________________\n",
      "up_sampling3d_4 (UpSampling3 (None, 16, 16, 55, 6)     0         \n",
      "_________________________________________________________________\n",
      "zero_padding3d_3 (ZeroPaddin (None, 18, 18, 55, 6)     0         \n",
      "_________________________________________________________________\n",
      "conv3d_7 (Conv3D)            (None, 16, 16, 55, 1)     55        \n",
      "_________________________________________________________________\n",
      "activation_2 (Activation)    (None, 16, 16, 55, 1)     0         \n",
      "=================================================================\n",
      "Total params: 565,397\n",
      "Trainable params: 565,257\n",
      "Non-trainable params: 140\n",
      "_________________________________________________________________\n"
     ]
    }
   ],
   "source": [
    "model = Sequential()\n",
    "\n",
    "model.add(Dense(64 * 8 * 8, activation=\"relu\", input_dim=100))\n",
    "model.add(Reshape((8, 8, 8, 8)))\n",
    "model.add(Conv3D(filters=64, kernel_size=(6, 6, 8), padding='same'\n",
    "                 #, data_format='channels_last'\n",
    "                ))\n",
    "model.add(LeakyReLU())\n",
    "model.add(BatchNormalization(momentum=0.8))\n",
    "model.add(UpSampling3D(size=(2, 2, 2)))\n",
    "model.add(ZeroPadding3D(padding=(0, 0, 2)))\n",
    "model.add(Conv3D(filters=6, kernel_size=(1, 1, 10), padding='valid'\n",
    "                 #, data_format='channels_last'\n",
    "                ))\n",
    "model.add(LeakyReLU())\n",
    "model.add(BatchNormalization(momentum=0.8))\n",
    "model.add(UpSampling3D(size=(1, 1, 5)))\n",
    "model.add(ZeroPadding3D(padding=(1, 1, 0)))\n",
    "model.add(Conv3D(filters=1, kernel_size=(3, 3, 1), padding='valid'\n",
    "                 #, data_format='channels_last'\n",
    "               ))        \n",
    "model.add(Activation(\"relu\"))\n",
    "\n",
    "model.summary()"
   ]
  },
  {
   "cell_type": "code",
   "execution_count": null,
   "metadata": {},
   "outputs": [],
   "source": []
  }
 ],
 "metadata": {
  "kernelspec": {
   "display_name": "Python 3",
   "language": "python",
   "name": "python3"
  },
  "language_info": {
   "codemirror_mode": {
    "name": "ipython",
    "version": 3
   },
   "file_extension": ".py",
   "mimetype": "text/x-python",
   "name": "python",
   "nbconvert_exporter": "python",
   "pygments_lexer": "ipython3",
   "version": "3.5.2"
  }
 },
 "nbformat": 4,
 "nbformat_minor": 2
}
