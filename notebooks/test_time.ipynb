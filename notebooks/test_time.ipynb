{
 "cells": [
  {
   "cell_type": "code",
   "execution_count": 1,
   "metadata": {},
   "outputs": [
    {
     "name": "stdout",
     "output_type": "stream",
     "text": [
      "setGPU: Setting GPU to: 0\n"
     ]
    },
    {
     "name": "stderr",
     "output_type": "stream",
     "text": [
      "/usr/local/lib/python3.5/dist-packages/h5py/__init__.py:34: FutureWarning: Conversion of the second argument of issubdtype from `float` to `np.floating` is deprecated. In future, it will be treated as `np.float64 == np.dtype(float).type`.\n",
      "  from ._conv import register_converters as _register_converters\n"
     ]
    }
   ],
   "source": [
    "import setGPU\n",
    "import os, h5py\n",
    "import numpy as np\n",
    "import glob\n",
    "import time"
   ]
  },
  {
   "cell_type": "code",
   "execution_count": 2,
   "metadata": {},
   "outputs": [],
   "source": [
    "from plots import loadModel"
   ]
  },
  {
   "cell_type": "code",
   "execution_count": 22,
   "metadata": {},
   "outputs": [
    {
     "name": "stdout",
     "output_type": "stream",
     "text": [
      "time: 128.00000000000000000000\n"
     ]
    }
   ],
   "source": [
    "n_samples = 1000\n",
    "\n",
    "g_weight3 = '../trial28/weights/generator_weights_epoch_1975_bs_128_lr_0.00005_latent_100_ncritic_5_clip_0.01.h5'\n",
    "gen_model3 = '../trial28/weights/generator_model_bs_128_lr_0.00005_latent_100_ncritic_5_clip_0.01.json'\n",
    "\n",
    "g = loadModel(gen_model3)\n",
    "latent_space=100\n",
    "noise = np.random.normal(0, 1, (n_samples, latent_space))\n",
    "g.load_weights(g_weight3)\n",
    "\n",
    "\n",
    "start = float(time.mktime(time.gmtime()))\n",
    "\n",
    "for i in range(1000):\n",
    "    #print(i)\n",
    "    generated_images = g.predict(noise)\n",
    "\n",
    "stop = float(time.mktime(time.gmtime()))\n",
    "\n",
    "print(\"time: %.20f\" % (stop - start))"
   ]
  },
  {
   "cell_type": "code",
   "execution_count": null,
   "metadata": {},
   "outputs": [],
   "source": []
  },
  {
   "cell_type": "code",
   "execution_count": 3,
   "metadata": {},
   "outputs": [
    {
     "name": "stderr",
     "output_type": "stream",
     "text": [
      "Using TensorFlow backend.\n"
     ]
    },
    {
     "name": "stdout",
     "output_type": "stream",
     "text": [
      "time: 0.74031829833984375000\n"
     ]
    }
   ],
   "source": [
    "nbatch = 1\n",
    "\n",
    "nperbatch = 100\n",
    "\n",
    "#n_samples = nbatch * nperbatch\n",
    "\n",
    "g_weight3 = '../trial28/weights/generator_weights_epoch_1975_bs_128_lr_0.00005_latent_100_ncritic_5_clip_0.01.h5'\n",
    "gen_model3 = '../trial28/weights/generator_model_bs_128_lr_0.00005_latent_100_ncritic_5_clip_0.01.json'\n",
    "\n",
    "g = loadModel(gen_model3)\n",
    "latent_space=100\n",
    "noise = np.random.normal(0, 1, (nperbatch, latent_space))\n",
    "g.load_weights(g_weight3)\n",
    "\n",
    "\n",
    "start = time.time()\n",
    "\n",
    "for i in range(nbatch):\n",
    "    generated_images = g.predict(noise)\n",
    "\n",
    "stop = time.time()\n",
    "\n",
    "print(\"time: %.20f\" % (stop - start))"
   ]
  },
  {
   "cell_type": "code",
   "execution_count": 6,
   "metadata": {},
   "outputs": [
    {
     "name": "stdout",
     "output_type": "stream",
     "text": [
      "time: 0.09525251388549805\n"
     ]
    }
   ],
   "source": [
    "n_samples = 1000\n",
    "\n",
    "#g = loadModel(gen_model3)\n",
    "latent_space=100\n",
    "noise = np.random.normal(0, 1, (n_samples, latent_space))\n",
    "#g.load_weights(g_weight3)\n",
    "\n",
    "\n",
    "start = time.time()\n",
    "\n",
    "generated_images = g.predict(noise)\n",
    "\n",
    "stop = time.time()\n",
    "\n",
    "print(\"time: \" + str(stop - start))"
   ]
  },
  {
   "cell_type": "code",
   "execution_count": null,
   "metadata": {},
   "outputs": [],
   "source": []
  }
 ],
 "metadata": {
  "kernelspec": {
   "display_name": "Python 3",
   "language": "python",
   "name": "python3"
  },
  "language_info": {
   "codemirror_mode": {
    "name": "ipython",
    "version": 3
   },
   "file_extension": ".py",
   "mimetype": "text/x-python",
   "name": "python",
   "nbconvert_exporter": "python",
   "pygments_lexer": "ipython3",
   "version": "3.5.2"
  }
 },
 "nbformat": 4,
 "nbformat_minor": 2
}
