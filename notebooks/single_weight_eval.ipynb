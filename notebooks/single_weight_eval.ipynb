{
 "cells": [
  {
   "cell_type": "markdown",
   "metadata": {},
   "source": [
    "# Evaluation with distance metric for educational purpose"
   ]
  },
  {
   "cell_type": "code",
   "execution_count": 1,
   "metadata": {},
   "outputs": [
    {
     "name": "stdout",
     "output_type": "stream",
     "text": [
      "setGPU: Setting GPU to: 1\n"
     ]
    }
   ],
   "source": [
    "%matplotlib inline\n",
    "\n",
    "import setGPU\n",
    "import os, h5py\n",
    "import numpy as np\n",
    "import matplotlib\n",
    "import matplotlib.pyplot as plt\n",
    "import matplotlib.cm as cm\n",
    "from matplotlib.colors import LogNorm, Normalize\n",
    "import glob\n",
    "from plots import loadModel, getMetric\n",
    "from scipy.stats import wasserstein_distance\n",
    "\n",
    "from scipy.special import rel_entr\n",
    "\n",
    "import scipy as sp\n",
    "\n",
    "from plots import KL, jsd"
   ]
  },
  {
   "cell_type": "code",
   "execution_count": 2,
   "metadata": {},
   "outputs": [],
   "source": [
    "f = h5py.File('/mnt/ceph/users/vbarinpa/single_particle/all_noPU.h5', 'r')\n",
    "#f = h5py.File('/bigdata/shared/HGCAL_data/single_particle/all_noPU.h5', 'r')\n",
    "X = np.asarray(f['image'])\n",
    "np.random.shuffle(X)"
   ]
  },
  {
   "cell_type": "code",
   "execution_count": 4,
   "metadata": {},
   "outputs": [
    {
     "ename": "NameError",
     "evalue": "name 'kl_div' is not defined",
     "output_type": "error",
     "traceback": [
      "\u001b[0;31m---------------------------------------------------------------------------\u001b[0m",
      "\u001b[0;31mNameError\u001b[0m                                 Traceback (most recent call last)",
      "\u001b[0;32m<ipython-input-4-a822f155db98>\u001b[0m in \u001b[0;36m<module>\u001b[0;34m()\u001b[0m\n\u001b[1;32m     53\u001b[0m \u001b[0mgen_img_z_norm\u001b[0m \u001b[0;34m=\u001b[0m \u001b[0mgen_im_z\u001b[0m\u001b[0;34m/\u001b[0m\u001b[0mnp\u001b[0m\u001b[0;34m.\u001b[0m\u001b[0msum\u001b[0m\u001b[0;34m(\u001b[0m\u001b[0mgen_im_z\u001b[0m\u001b[0;34m)\u001b[0m\u001b[0;34m\u001b[0m\u001b[0m\n\u001b[1;32m     54\u001b[0m \u001b[0;34m\u001b[0m\u001b[0m\n\u001b[0;32m---> 55\u001b[0;31m \u001b[0mkl_div\u001b[0m\u001b[0;34m(\u001b[0m\u001b[0mreal_img_z_norm\u001b[0m\u001b[0;34m,\u001b[0m \u001b[0mgen_img_z_norm\u001b[0m\u001b[0;34m)\u001b[0m\u001b[0;34m\u001b[0m\u001b[0m\n\u001b[0m\u001b[1;32m     56\u001b[0m \u001b[0;34m\u001b[0m\u001b[0m\n\u001b[1;32m     57\u001b[0m \u001b[0mnp\u001b[0m\u001b[0;34m.\u001b[0m\u001b[0msum\u001b[0m\u001b[0;34m(\u001b[0m\u001b[0mreal_img_z_norm\u001b[0m\u001b[0;34m)\u001b[0m\u001b[0;34m\u001b[0m\u001b[0m\n",
      "\u001b[0;31mNameError\u001b[0m: name 'kl_div' is not defined"
     ]
    },
    {
     "data": {
      "image/png": "[encoded data removed]",
      "text/plain": [
       "<Figure size 432x288 with 1 Axes>"
      ]
     },
     "metadata": {},
     "output_type": "display_data"
    }
   ],
   "source": [
    "gen_model2 = '../trial28/weights/generator_model_bs_128_lr_0.00005_latent_100_ncritic_5_clip_0.01.json'\n",
    "g_weight2 = '../trial28/weights/generator_weights_epoch_1975_bs_128_lr_0.00005_latent_100_ncritic_5_clip_0.01.h5'\n",
    "\n",
    "g = loadModel(gen_model2)\n",
    "\n",
    "g.load_weights(g_weight2)\n",
    "\n",
    "latent_space=100\n",
    "n_samples = 2000\n",
    "noise = np.random.normal(0, 1, (n_samples, latent_space))\n",
    "generated_images = g.predict(noise)\n",
    "\n",
    "gen_im_x = np.sum(generated_images, axis=(2, 3))\n",
    "gen_im_x = np.mean(gen_im_x, axis=0)\n",
    "\n",
    "real_img_x = np.sum(X[0:n_samples], axis=(2, 3))\n",
    "real_img_x = np.mean(real_img_x, axis=0)\n",
    "\n",
    "plt.plot(np.arange(16), gen_im_x, label='fake')\n",
    "plt.plot(np.arange(16), real_img_x, label='real')\n",
    "plt.legend()\n",
    "\n",
    "wasserstein_distance(real_img_x, gen_im_x)\n",
    "\n",
    "gen_im_y = np.sum(generated_images, axis=(1, 3))\n",
    "gen_im_y = np.mean(gen_im_y, axis=0)\n",
    "\n",
    "real_img_y = np.sum(X[0:n_samples], axis=(1, 3))\n",
    "real_img_y = np.mean(real_img_y, axis=0)\n",
    "\n",
    "plt.plot(np.arange(16), gen_im_y, label='fake')\n",
    "plt.plot(np.arange(16), real_img_y, label='real')\n",
    "plt.legend()\n",
    "\n",
    "wasserstein_distance(real_img_y, gen_im_y)\n",
    "\n",
    "gen_im_z = np.sum(generated_images, axis=(1, 2))\n",
    "gen_im_z = np.mean(gen_im_z, axis=0)\n",
    "\n",
    "real_img_z = np.sum(X[0:n_samples], axis=(1, 2))\n",
    "real_img_z = np.mean(real_img_z, axis=0)\n",
    "\n",
    "plt.plot(np.arange(55), gen_im_z, label='fake')\n",
    "plt.plot(np.arange(55), real_img_z, label='real')\n",
    "plt.legend()\n",
    "\n",
    "wasserstein_distance(real_img_z, gen_im_z)\n",
    "\n",
    "np.sum(real_img_z)\n",
    "\n",
    "real_img_z_norm = real_img_z/np.sum(real_img_z)\n",
    "\n",
    "gen_img_z_norm = gen_im_z/np.sum(gen_im_z)\n",
    "\n",
    "kl_div(real_img_z_norm, gen_img_z_norm)\n",
    "\n",
    "np.sum(real_img_z_norm)\n",
    "\n",
    "max(real_img_z)\n",
    "\n",
    "kl_div(real_img_z, gen_im_z).shape\n",
    "\n",
    "rel_entr(real_img_z, gen_im_z).shape\n",
    "\n",
    "KL(real_img_z, gen_im_z)\n",
    "\n",
    "jsd(real_img_z_norm, gen_img_z_norm)"
   ]
  },
  {
   "cell_type": "code",
   "execution_count": null,
   "metadata": {},
   "outputs": [],
   "source": []
  }
 ],
 "metadata": {
  "kernelspec": {
   "display_name": "venv",
   "language": "python",
   "name": "venv"
  },
  "language_info": {
   "codemirror_mode": {
    "name": "ipython",
    "version": 3
   },
   "file_extension": ".py",
   "mimetype": "text/x-python",
   "name": "python",
   "nbconvert_exporter": "python",
   "pygments_lexer": "ipython3",
   "version": "3.6.2"
  }
 },
 "nbformat": 4,
 "nbformat_minor": 2
}
