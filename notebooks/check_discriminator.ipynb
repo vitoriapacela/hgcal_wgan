{
 "cells": [
  {
   "cell_type": "code",
   "execution_count": 32,
   "metadata": {},
   "outputs": [],
   "source": [
    "from plots import loadModel"
   ]
  },
  {
   "cell_type": "code",
   "execution_count": 2,
   "metadata": {},
   "outputs": [
    {
     "name": "stdout",
     "output_type": "stream",
     "text": [
      "setGPU: Setting GPU to: 0\n"
     ]
    },
    {
     "name": "stderr",
     "output_type": "stream",
     "text": [
      "/usr/local/lib/python3.5/dist-packages/h5py/__init__.py:34: FutureWarning: Conversion of the second argument of issubdtype from `float` to `np.floating` is deprecated. In future, it will be treated as `np.float64 == np.dtype(float).type`.\n",
      "  from ._conv import register_converters as _register_converters\n"
     ]
    }
   ],
   "source": [
    "%matplotlib inline\n",
    "\n",
    "import setGPU\n",
    "import os, h5py\n",
    "import numpy as np\n",
    "import matplotlib\n",
    "import matplotlib.pyplot as plt\n",
    "import matplotlib.cm as cm\n",
    "from matplotlib.colors import LogNorm, Normalize\n",
    "import glob"
   ]
  },
  {
   "cell_type": "code",
   "execution_count": 26,
   "metadata": {},
   "outputs": [],
   "source": [
    "from keras.layers import Input, Dense, Reshape, Flatten, Dropout, LeakyReLU\n",
    "from keras.layers.convolutional import UpSampling2D, Conv2D, ZeroPadding2D, AveragePooling2D\n",
    "from keras.layers import BatchNormalization, Activation\n",
    "from keras.layers.advanced_activations import LeakyReLU\n",
    "from keras.models import Sequential, Model\n",
    "from keras.optimizers import RMSprop"
   ]
  },
  {
   "cell_type": "code",
   "execution_count": 4,
   "metadata": {},
   "outputs": [],
   "source": [
    "disc_weight = '/nfshome/vitoriabp/hgcal_wgan/trial23/weights/discriminator_weights_epoch_1975_bs_128_lr_0.00005_latent_100_ncritic_5_clip_0.01_shuffle.h5'"
   ]
  },
  {
   "cell_type": "code",
   "execution_count": 29,
   "metadata": {},
   "outputs": [],
   "source": [
    "def build_critic():\n",
    "\n",
    "    model = Sequential()\n",
    "\n",
    "    model.add(Conv2D(filters=32, kernel_size=(2, 2), padding='same', input_shape=(16, 16, 55)))\n",
    "\n",
    "    model.add(LeakyReLU(alpha=0.2))\n",
    "    model.add(Dropout(rate=0.25))\n",
    "\n",
    "    model.add(ZeroPadding2D(padding=(2, 2)))\n",
    "\n",
    "    model.add(Conv2D(filters=8, kernel_size=(2, 2), padding='valid'))\n",
    "\n",
    "    model.add(LeakyReLU())\n",
    "    model.add(BatchNormalization(momentum=0.8))\n",
    "    model.add(Dropout(rate=0.25))\n",
    "\n",
    "    model.add(ZeroPadding2D(padding=(2, 2)))\n",
    "\n",
    "    model.add(Conv2D(filters=8, kernel_size=(2, 2), padding='valid'))\n",
    "\n",
    "    model.add(LeakyReLU(alpha=0.2))\n",
    "    model.add(BatchNormalization(momentum=0.8))\n",
    "    model.add(Dropout(rate=0.25))\n",
    "\n",
    "    model.add(ZeroPadding2D(padding=(1, 1)))\n",
    "\n",
    "    model.add(Conv2D(filters=8, kernel_size=(2, 2), padding='valid'))\n",
    "\n",
    "    model.add(LeakyReLU(alpha=0.2))\n",
    "    model.add(BatchNormalization(momentum=0.8))\n",
    "    model.add(Dropout(rate=0.25))\n",
    "\n",
    "    model.add(AveragePooling2D(pool_size=(2, 2)))\n",
    "\n",
    "    model.add(Flatten())\n",
    "    model.add(Dense(1))\n",
    "\n",
    "    model.summary()\n",
    "\n",
    "    img = Input(shape=(16, 16, 55))\n",
    "    validity = model(img)\n",
    "\n",
    "    return Model(img, validity)"
   ]
  },
  {
   "cell_type": "code",
   "execution_count": 30,
   "metadata": {},
   "outputs": [
    {
     "name": "stdout",
     "output_type": "stream",
     "text": [
      "_________________________________________________________________\n",
      "Layer (type)                 Output Shape              Param #   \n",
      "=================================================================\n",
      "conv2d_5 (Conv2D)            (None, 16, 16, 32)        7072      \n",
      "_________________________________________________________________\n",
      "leaky_re_lu_5 (LeakyReLU)    (None, 16, 16, 32)        0         \n",
      "_________________________________________________________________\n",
      "dropout_5 (Dropout)          (None, 16, 16, 32)        0         \n",
      "_________________________________________________________________\n",
      "zero_padding2d_4 (ZeroPaddin (None, 20, 20, 32)        0         \n",
      "_________________________________________________________________\n",
      "conv2d_6 (Conv2D)            (None, 19, 19, 8)         1032      \n",
      "_________________________________________________________________\n",
      "leaky_re_lu_6 (LeakyReLU)    (None, 19, 19, 8)         0         \n",
      "_________________________________________________________________\n",
      "batch_normalization_4 (Batch (None, 19, 19, 8)         32        \n",
      "_________________________________________________________________\n",
      "dropout_6 (Dropout)          (None, 19, 19, 8)         0         \n",
      "_________________________________________________________________\n",
      "zero_padding2d_5 (ZeroPaddin (None, 23, 23, 8)         0         \n",
      "_________________________________________________________________\n",
      "conv2d_7 (Conv2D)            (None, 22, 22, 8)         264       \n",
      "_________________________________________________________________\n",
      "leaky_re_lu_7 (LeakyReLU)    (None, 22, 22, 8)         0         \n",
      "_________________________________________________________________\n",
      "batch_normalization_5 (Batch (None, 22, 22, 8)         32        \n",
      "_________________________________________________________________\n",
      "dropout_7 (Dropout)          (None, 22, 22, 8)         0         \n",
      "_________________________________________________________________\n",
      "zero_padding2d_6 (ZeroPaddin (None, 24, 24, 8)         0         \n",
      "_________________________________________________________________\n",
      "conv2d_8 (Conv2D)            (None, 23, 23, 8)         264       \n",
      "_________________________________________________________________\n",
      "leaky_re_lu_8 (LeakyReLU)    (None, 23, 23, 8)         0         \n",
      "_________________________________________________________________\n",
      "batch_normalization_6 (Batch (None, 23, 23, 8)         32        \n",
      "_________________________________________________________________\n",
      "dropout_8 (Dropout)          (None, 23, 23, 8)         0         \n",
      "_________________________________________________________________\n",
      "average_pooling2d_2 (Average (None, 11, 11, 8)         0         \n",
      "_________________________________________________________________\n",
      "flatten_2 (Flatten)          (None, 968)               0         \n",
      "_________________________________________________________________\n",
      "dense_2 (Dense)              (None, 1)                 969       \n",
      "=================================================================\n",
      "Total params: 9,697\n",
      "Trainable params: 9,649\n",
      "Non-trainable params: 48\n",
      "_________________________________________________________________\n"
     ]
    }
   ],
   "source": [
    "disc_model = build_critic()"
   ]
  },
  {
   "cell_type": "code",
   "execution_count": 33,
   "metadata": {},
   "outputs": [],
   "source": [
    "def saveModel(model, name=\"regression\"):\n",
    "    '''\n",
    "    Saves model as json file..\n",
    "    :parameter model: model to be saved.\n",
    "    :parameter name: name of the model to be saved.\n",
    "    :type name: str\n",
    "    :return: saved model.\n",
    "    '''\n",
    "    model_name = name\n",
    "    model.summary()\n",
    "    #model.save_weights('%s.h5' % model_name, overwrite=True)\n",
    "    model_json = model.to_json()\n",
    "    with open(\"%s.json\" % model_name, \"w\") as json_file:\n",
    "        json_file.write(model_json)"
   ]
  },
  {
   "cell_type": "code",
   "execution_count": 35,
   "metadata": {},
   "outputs": [
    {
     "name": "stdout",
     "output_type": "stream",
     "text": [
      "_________________________________________________________________\n",
      "Layer (type)                 Output Shape              Param #   \n",
      "=================================================================\n",
      "input_1 (InputLayer)         (None, 16, 16, 55)        0         \n",
      "_________________________________________________________________\n",
      "sequential_10 (Sequential)   (None, 1)                 9697      \n",
      "=================================================================\n",
      "Total params: 9,697\n",
      "Trainable params: 9,649\n",
      "Non-trainable params: 48\n",
      "_________________________________________________________________\n"
     ]
    }
   ],
   "source": [
    "saveModel(disc_model, name=\"discriminator_trial23\")"
   ]
  },
  {
   "cell_type": "code",
   "execution_count": 36,
   "metadata": {},
   "outputs": [],
   "source": [
    "d_model = loadModel('discriminator_trial23.json')"
   ]
  },
  {
   "cell_type": "code",
   "execution_count": 37,
   "metadata": {},
   "outputs": [],
   "source": [
    "d_model.load_weights(disc_weight)"
   ]
  },
  {
   "cell_type": "code",
   "execution_count": 38,
   "metadata": {},
   "outputs": [],
   "source": [
    "f = h5py.File('/bigdata/shared/HGCAL_data/new_multi_small/no_pu/ntuple_merged_159_no_pu.h5', 'r')"
   ]
  },
  {
   "cell_type": "code",
   "execution_count": 40,
   "metadata": {},
   "outputs": [
    {
     "data": {
      "text/plain": [
       "['X', 'y']"
      ]
     },
     "execution_count": 40,
     "metadata": {},
     "output_type": "execute_result"
    }
   ],
   "source": [
    "list(f.keys())"
   ]
  },
  {
   "cell_type": "code",
   "execution_count": 41,
   "metadata": {},
   "outputs": [],
   "source": [
    "imgs = np.asarray(f['X'])"
   ]
  },
  {
   "cell_type": "code",
   "execution_count": 43,
   "metadata": {},
   "outputs": [],
   "source": [
    "imgs = imgs.squeeze()"
   ]
  },
  {
   "cell_type": "code",
   "execution_count": 44,
   "metadata": {},
   "outputs": [
    {
     "data": {
      "text/plain": [
       "(58, 16, 16, 55)"
      ]
     },
     "execution_count": 44,
     "metadata": {},
     "output_type": "execute_result"
    }
   ],
   "source": [
    "imgs.shape"
   ]
  },
  {
   "cell_type": "code",
   "execution_count": 46,
   "metadata": {},
   "outputs": [],
   "source": [
    "pred = d_model.predict(imgs)"
   ]
  },
  {
   "cell_type": "code",
   "execution_count": 49,
   "metadata": {},
   "outputs": [
    {
     "data": {
      "text/plain": [
       "array([[7.2917421e-05],\n",
       "       [7.2203962e-05],\n",
       "       [7.2728901e-05],\n",
       "       [7.2584895e-05],\n",
       "       [7.2700779e-05],\n",
       "       [7.2648050e-05],\n",
       "       [7.3133735e-05],\n",
       "       [7.2077171e-05],\n",
       "       [7.2723633e-05],\n",
       "       [7.2571296e-05],\n",
       "       [7.2829214e-05],\n",
       "       [7.2271279e-05],\n",
       "       [7.2904520e-05],\n",
       "       [7.2389259e-05],\n",
       "       [7.2889452e-05],\n",
       "       [7.2101517e-05],\n",
       "       [7.2667193e-05],\n",
       "       [7.2145755e-05],\n",
       "       [7.2869028e-05],\n",
       "       [7.2518997e-05],\n",
       "       [7.3268558e-05],\n",
       "       [7.2239709e-05],\n",
       "       [7.2907213e-05],\n",
       "       [7.2128896e-05],\n",
       "       [7.2629111e-05],\n",
       "       [7.2359471e-05],\n",
       "       [7.2572118e-05],\n",
       "       [7.2352239e-05],\n",
       "       [7.2693190e-05],\n",
       "       [7.2685187e-05],\n",
       "       [7.2828901e-05],\n",
       "       [7.2629424e-05],\n",
       "       [7.2854658e-05],\n",
       "       [7.2415518e-05],\n",
       "       [7.2464063e-05],\n",
       "       [7.2160161e-05],\n",
       "       [7.3105402e-05],\n",
       "       [7.2338938e-05],\n",
       "       [7.2738025e-05],\n",
       "       [7.2597781e-05],\n",
       "       [7.2218543e-05],\n",
       "       [7.1704075e-05],\n",
       "       [7.2924413e-05],\n",
       "       [7.2327784e-05],\n",
       "       [7.3086405e-05],\n",
       "       [7.2227340e-05],\n",
       "       [7.2847448e-05],\n",
       "       [7.2374067e-05],\n",
       "       [7.2862094e-05],\n",
       "       [7.2315779e-05],\n",
       "       [7.2879266e-05],\n",
       "       [7.2061826e-05],\n",
       "       [7.2810748e-05],\n",
       "       [7.2337330e-05],\n",
       "       [7.2777999e-05],\n",
       "       [7.2375762e-05],\n",
       "       [7.2807008e-05],\n",
       "       [7.2169678e-05]], dtype=float32)"
      ]
     },
     "execution_count": 49,
     "metadata": {},
     "output_type": "execute_result"
    }
   ],
   "source": [
    "pred"
   ]
  },
  {
   "cell_type": "code",
   "execution_count": 50,
   "metadata": {},
   "outputs": [],
   "source": [
    "gen_model1 = '/nfshome/vitoriabp/hgcal_wgan/trial23/weights/generator_model_bs_128_lr_0.00005_latent_100_ncritic_5_clip_0.01_shuffle.json'"
   ]
  },
  {
   "cell_type": "code",
   "execution_count": 51,
   "metadata": {},
   "outputs": [],
   "source": [
    "all_g_weight1 = '/nfshome/vitoriabp/hgcal_wgan/trial23/weights/generator_weights_epoch_1975_bs_128_lr_0.00005_latent_100_ncritic_5_clip_0.01_shuffle.h5'"
   ]
  },
  {
   "cell_type": "code",
   "execution_count": 52,
   "metadata": {},
   "outputs": [],
   "source": [
    "g = loadModel(gen_model1)"
   ]
  },
  {
   "cell_type": "code",
   "execution_count": 53,
   "metadata": {},
   "outputs": [],
   "source": [
    "g.load_weights(all_g_weight1)"
   ]
  },
  {
   "cell_type": "code",
   "execution_count": 56,
   "metadata": {},
   "outputs": [],
   "source": [
    "noise = np.random.normal(0, 1, (32, 100))\n",
    "fake = g.predict(noise)"
   ]
  },
  {
   "cell_type": "code",
   "execution_count": 57,
   "metadata": {},
   "outputs": [
    {
     "data": {
      "text/plain": [
       "(32, 16, 16, 55)"
      ]
     },
     "execution_count": 57,
     "metadata": {},
     "output_type": "execute_result"
    }
   ],
   "source": [
    "fake.shape"
   ]
  },
  {
   "cell_type": "code",
   "execution_count": 58,
   "metadata": {},
   "outputs": [],
   "source": [
    "pred_fake = d_model.predict(fake)"
   ]
  },
  {
   "cell_type": "code",
   "execution_count": 59,
   "metadata": {},
   "outputs": [
    {
     "data": {
      "text/plain": [
       "array([[7.2212017e-05],\n",
       "       [7.1711438e-05],\n",
       "       [7.2578005e-05],\n",
       "       [7.2508585e-05],\n",
       "       [7.2527255e-05],\n",
       "       [7.2474082e-05],\n",
       "       [7.2072078e-05],\n",
       "       [7.2518298e-05],\n",
       "       [7.2438939e-05],\n",
       "       [7.2530500e-05],\n",
       "       [7.2575458e-05],\n",
       "       [7.2246352e-05],\n",
       "       [7.2481329e-05],\n",
       "       [7.2386647e-05],\n",
       "       [7.2014431e-05],\n",
       "       [7.2564326e-05],\n",
       "       [7.2609793e-05],\n",
       "       [7.2091658e-05],\n",
       "       [7.2621071e-05],\n",
       "       [7.2430266e-05],\n",
       "       [7.2435854e-05],\n",
       "       [7.2056013e-05],\n",
       "       [7.2249299e-05],\n",
       "       [7.1693088e-05],\n",
       "       [7.2554714e-05],\n",
       "       [7.2366041e-05],\n",
       "       [7.2379829e-05],\n",
       "       [7.1581300e-05],\n",
       "       [7.2472787e-05],\n",
       "       [7.1842478e-05],\n",
       "       [7.2522875e-05],\n",
       "       [7.2171642e-05]], dtype=float32)"
      ]
     },
     "execution_count": 59,
     "metadata": {},
     "output_type": "execute_result"
    }
   ],
   "source": [
    "pred_fake"
   ]
  },
  {
   "cell_type": "code",
   "execution_count": null,
   "metadata": {},
   "outputs": [],
   "source": []
  }
 ],
 "metadata": {
  "kernelspec": {
   "display_name": "Python 3",
   "language": "python",
   "name": "python3"
  },
  "language_info": {
   "codemirror_mode": {
    "name": "ipython",
    "version": 3
   },
   "file_extension": ".py",
   "mimetype": "text/x-python",
   "name": "python",
   "nbconvert_exporter": "python",
   "pygments_lexer": "ipython3",
   "version": "3.5.2"
  }
 },
 "nbformat": 4,
 "nbformat_minor": 2
}
