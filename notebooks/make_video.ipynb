{
 "cells": [
  {
   "cell_type": "code",
   "execution_count": 75,
   "metadata": {},
   "outputs": [],
   "source": [
    "import cv2\n",
    "import os\n",
    "import glob\n",
    "\n",
    "def sortByStep(e):\n",
    "    step = int(e.split('/')[-1].split('_')[-1].split('.')[0])\n",
    "    return step\n",
    "\n",
    "image_folder = 'images_sum/*.png'\n",
    "video_name = 'video_sum.avi'\n",
    "\n",
    "img_files = glob.glob(image_folder)\n",
    "\n",
    "img_files.sort(key=sortByStep)\n",
    "\n",
    "frame = cv2.imread(img_files[0])\n",
    "\n",
    "height, width, layers = frame.shape\n",
    "\n",
    "video = cv2.VideoWriter(video_name, cv2.VideoWriter_fourcc(*'XVID'), 5, (width,height))\n",
    "\n",
    "for image in img_files:\n",
    "    video.write(cv2.imread(image))\n",
    "\n",
    "cv2.destroyAllWindows()\n",
    "\n",
    "video.release()"
   ]
  },
  {
   "cell_type": "code",
   "execution_count": null,
   "metadata": {},
   "outputs": [],
   "source": []
  }
 ],
 "metadata": {
  "kernelspec": {
   "display_name": "venv",
   "language": "python",
   "name": "venv"
  },
  "language_info": {
   "codemirror_mode": {
    "name": "ipython",
    "version": 3
   },
   "file_extension": ".py",
   "mimetype": "text/x-python",
   "name": "python",
   "nbconvert_exporter": "python",
   "pygments_lexer": "ipython3",
   "version": "3.6.2"
  }
 },
 "nbformat": 4,
 "nbformat_minor": 2
}
