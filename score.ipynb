{
 "cells": [
  {
   "cell_type": "code",
   "execution_count": 1,
   "metadata": {},
   "outputs": [
    {
     "name": "stdout",
     "output_type": "stream",
     "text": [
      "setGPU: Setting GPU to: 1\n"
     ]
    },
    {
     "name": "stderr",
     "output_type": "stream",
     "text": [
      "/usr/local/lib/python3.5/dist-packages/h5py/__init__.py:34: FutureWarning: Conversion of the second argument of issubdtype from `float` to `np.floating` is deprecated. In future, it will be treated as `np.float64 == np.dtype(float).type`.\n",
      "  from ._conv import register_converters as _register_converters\n"
     ]
    }
   ],
   "source": [
    "%matplotlib inline\n",
    "\n",
    "import setGPU\n",
    "import os, h5py\n",
    "import numpy as np\n",
    "import matplotlib\n",
    "import matplotlib.pyplot as plt\n",
    "import matplotlib.cm as cm\n",
    "from matplotlib.colors import LogNorm, Normalize\n",
    "\n",
    "import glob"
   ]
  },
  {
   "cell_type": "code",
   "execution_count": 3,
   "metadata": {},
   "outputs": [],
   "source": [
    "from plots import loadModel, getMetric"
   ]
  },
  {
   "cell_type": "code",
   "execution_count": 6,
   "metadata": {},
   "outputs": [],
   "source": [
    "n_samples = 200\n",
    "\n",
    "f = h5py.File('/bigdata/shared/HGCAL_data/single_particle/noPU/ntuple_merged_2512_no_pu.h5', 'r')\n",
    "X = np.asarray(f['image'])\n",
    "#X = X.squeeze()"
   ]
  },
  {
   "cell_type": "code",
   "execution_count": 7,
   "metadata": {},
   "outputs": [
    {
     "data": {
      "text/plain": [
       "(31, 16, 16, 55)"
      ]
     },
     "execution_count": 7,
     "metadata": {},
     "output_type": "execute_result"
    }
   ],
   "source": [
    "X.shape"
   ]
  },
  {
   "cell_type": "code",
   "execution_count": 113,
   "metadata": {},
   "outputs": [],
   "source": [
    "def getMeans(X, axis):\n",
    "    y_means = np.mean(X, axis=axis)\n",
    "    y_means = np.sum(y_means, axis=(1, 2))\n",
    "    y_means_mean = np.mean(y_means)\n",
    "    y_means_var = np.var(y_means)\n",
    "    return y_means_mean, y_means_var"
   ]
  },
  {
   "cell_type": "code",
   "execution_count": 114,
   "metadata": {},
   "outputs": [],
   "source": [
    "x_means_mean, x_means_var = getMeans(X, axis=1)\n",
    "y_means_mean, y_means_var = getMeans(X, axis=2)\n",
    "z_means_mean, z_means_var = getMeans(X, axis=3)"
   ]
  },
  {
   "cell_type": "code",
   "execution_count": null,
   "metadata": {},
   "outputs": [],
   "source": [
    "print(x_means_mean, x_means_var)\n",
    "print(y_means_mean, y_means_var)\n",
    "print(z_means_mean, z_means_var)"
   ]
  },
  {
   "cell_type": "code",
   "execution_count": 115,
   "metadata": {},
   "outputs": [],
   "source": [
    "def getStds(X, axis):\n",
    "    y_means = np.std(X, axis=axis)\n",
    "    y_means = np.sum(y_means, axis=(1, 2))\n",
    "    y_means_mean = np.mean(y_means)\n",
    "    y_means_var = np.var(y_means)\n",
    "    return y_means_mean, y_means_var"
   ]
  },
  {
   "cell_type": "code",
   "execution_count": 116,
   "metadata": {},
   "outputs": [],
   "source": [
    "x_stds_mean, x_stds_var = getStds(X, axis=1)\n",
    "y_stds_mean, y_stds_var = getStds(X, axis=2)\n",
    "z_stds_mean, z_stds_var = getStds(X, axis=3)"
   ]
  },
  {
   "cell_type": "code",
   "execution_count": null,
   "metadata": {},
   "outputs": [],
   "source": [
    "print(x_stds_mean, x_stds_var)\n",
    "print(y_stds_mean, y_stds_var)\n",
    "print(z_stds_mean, z_stds_var)"
   ]
  },
  {
   "cell_type": "code",
   "execution_count": null,
   "metadata": {},
   "outputs": [],
   "source": [
    "from scipy.stats import skew\n",
    "\n",
    "def get3rt(x_skews):\n",
    "    x_skews3rt = []\n",
    "    for s in x_skews:\n",
    "        s3rt = s**(1/float(3))\n",
    "        x_skews3rt.append(s3rt)\n",
    "    return x_skews3rt"
   ]
  },
  {
   "cell_type": "code",
   "execution_count": 53,
   "metadata": {},
   "outputs": [],
   "source": [
    "def get4rt(x_skews):\n",
    "    x_skews4rt = []\n",
    "    for s in x_skews:\n",
    "        s4rt = s**(1/float(4))\n",
    "        x_skews4rt.append(s3rt)\n",
    "    return x_skews4rt"
   ]
  },
  {
   "cell_type": "code",
   "execution_count": 117,
   "metadata": {},
   "outputs": [],
   "source": [
    "def getSkews(X, axis):\n",
    "    x_skews = skew(X, axis=axis)\n",
    "    x_skews = np.sum(x_skews, axis=(1, 2))\n",
    "    x_skews3rt = get3rt(x_skews)\n",
    "    x_skews_mean = np.mean(x_skews3rt)\n",
    "    x_skews_var = np.var(x_skews3rt)\n",
    "    return x_skews_mean, x_skews_var"
   ]
  },
  {
   "cell_type": "code",
   "execution_count": 118,
   "metadata": {},
   "outputs": [],
   "source": [
    "x_skews_mean, x_skews_var = getSkews(X, axis=1)\n",
    "y_skews_mean, y_skews_var = getSkews(X, axis=2)\n",
    "z_skews_mean, z_skews_var = getSkews(X, axis=3)"
   ]
  },
  {
   "cell_type": "code",
   "execution_count": 66,
   "metadata": {},
   "outputs": [
    {
     "name": "stdout",
     "output_type": "stream",
     "text": [
      "10.445481356913728 0.06648592313296102\n"
     ]
    }
   ],
   "source": [
    "print(x_skews_mean, x_skews_var)\n",
    "print(y_skews_mean, y_skews_var)\n",
    "print(z_skews_mean, z_skews_var)"
   ]
  },
  {
   "cell_type": "code",
   "execution_count": 67,
   "metadata": {},
   "outputs": [],
   "source": [
    "from scipy.stats import kurtosis"
   ]
  },
  {
   "cell_type": "code",
   "execution_count": 119,
   "metadata": {},
   "outputs": [],
   "source": [
    "def getKurts(X, axis):\n",
    "    x_skews = kurtosis(X, axis=axis)\n",
    "    x_skews = np.sum(x_skews, axis=(1, 2))\n",
    "    x_skews4rt = get4rt(x_skews)\n",
    "    x_skews_mean = np.mean(x_skews4rt)\n",
    "    x_skews_var = np.var(x_skews4rt)\n",
    "    return x_skews_mean, x_skews_var"
   ]
  },
  {
   "cell_type": "code",
   "execution_count": 120,
   "metadata": {},
   "outputs": [],
   "source": [
    "x_kurt_mean, x_kurt_var = getKurts(X, axis=1)\n",
    "y_kurt_mean, y_kurt_var = getKurts(X, axis=2)\n",
    "z_kurt_mean, z_kurt_var = getKurts(X, axis=3)"
   ]
  },
  {
   "cell_type": "code",
   "execution_count": 72,
   "metadata": {},
   "outputs": [
    {
     "name": "stdout",
     "output_type": "stream",
     "text": [
      "6.058137669703241 0.10323311898759885\n"
     ]
    }
   ],
   "source": [
    "print(x_kurt_mean, x_kurt_var)\n",
    "print(y_kurt_mean, y_kurt_var)\n",
    "print(z_kurt_mean, z_kurt_var)"
   ]
  },
  {
   "cell_type": "code",
   "execution_count": 121,
   "metadata": {},
   "outputs": [],
   "source": [
    "x_means = (x_means_mean, x_stds_mean, x_skews_mean, x_kurt_mean)\n",
    "y_means = (y_means_mean, y_stds_mean, y_skews_mean, y_kurt_mean)\n",
    "z_means = (z_means_mean, z_stds_mean, z_skews_mean, z_kurt_mean)\n",
    "\n",
    "x_vars = (x_means_var, x_stds_var, x_skews_var, x_kurt_var)\n",
    "y_vars = (y_means_var, y_stds_var, y_skews_var, y_kurt_var)\n",
    "z_vars = (z_means_var, z_stds_var, z_skews_var, z_kurt_var)"
   ]
  },
  {
   "cell_type": "code",
   "execution_count": 125,
   "metadata": {},
   "outputs": [],
   "source": [
    "def getValues(X):\n",
    "    x_means_mean, x_means_var = getMeans(X, axis=1)\n",
    "    y_means_mean, y_means_var = getMeans(X, axis=2)\n",
    "    z_means_mean, z_means_var = getMeans(X, axis=3)\n",
    "    \n",
    "    x_stds_mean, x_stds_var = getStds(X, axis=1)\n",
    "    y_stds_mean, y_stds_var = getStds(X, axis=2)\n",
    "    z_stds_mean, z_stds_var = getStds(X, axis=3)\n",
    "    \n",
    "    x_skews_mean, x_skews_var = getSkews(X, axis=1)\n",
    "    y_skews_mean, y_skews_var = getSkews(X, axis=2)\n",
    "    z_skews_mean, z_skews_var = getSkews(X, axis=3)\n",
    "    \n",
    "    x_kurt_mean, x_kurt_var = getKurts(X, axis=1)\n",
    "    y_kurt_mean, y_kurt_var = getKurts(X, axis=2)\n",
    "    z_kurt_mean, z_kurt_var = getKurts(X, axis=3)\n",
    "    \n",
    "    x_means = (x_means_mean, x_stds_mean, x_skews_mean, x_kurt_mean)\n",
    "    y_means = (y_means_mean, y_stds_mean, y_skews_mean, y_kurt_mean)\n",
    "    z_means = (z_means_mean, z_stds_mean, z_skews_mean, z_kurt_mean)\n",
    "\n",
    "    x_vars = (x_means_var, x_stds_var, x_skews_var, x_kurt_var)\n",
    "    y_vars = (y_means_var, y_stds_var, y_skews_var, y_kurt_var)\n",
    "    z_vars = (z_means_var, z_stds_var, z_skews_var, z_kurt_var)\n",
    "    \n",
    "    means = [x_means, y_means, z_means]\n",
    "    variances = [x_vars, y_vars, z_vars]\n",
    "    \n",
    "    return means, variances"
   ]
  },
  {
   "cell_type": "code",
   "execution_count": 126,
   "metadata": {},
   "outputs": [],
   "source": [
    "real_means, real_variances = getValues(X)"
   ]
  },
  {
   "cell_type": "code",
   "execution_count": 128,
   "metadata": {},
   "outputs": [
    {
     "name": "stdout",
     "output_type": "stream",
     "text": [
      "[(21.35096331079577, 57.15394286494975, 10.445481356913728, 6.058137669703241), (21.35096331079577, 57.519036081783284, 10.150160173800932, 5.6244533849990015), (6.21118932677695, 12.987266243165497, 10.393586104683322, 8.809572502195552)]\n"
     ]
    }
   ],
   "source": [
    "print(real_means)"
   ]
  },
  {
   "cell_type": "code",
   "execution_count": 129,
   "metadata": {},
   "outputs": [
    {
     "data": {
      "text/plain": [
       "(21.35096331079577, 57.15394286494975, 10.445481356913728, 6.058137669703241)"
      ]
     },
     "execution_count": 129,
     "metadata": {},
     "output_type": "execute_result"
    }
   ],
   "source": [
    "real_means[0]"
   ]
  },
  {
   "cell_type": "markdown",
   "metadata": {},
   "source": [
    "# Generated model"
   ]
  },
  {
   "cell_type": "code",
   "execution_count": 133,
   "metadata": {},
   "outputs": [],
   "source": [
    "gen_model2 = '/nfshome/vitoriabp/hgcal_wgan/trial28/weights/generator_model_bs_128_lr_0.00005_latent_100_ncritic_5_clip_0.01.json'\n",
    "g_weight2 = '/nfshome/vitoriabp/hgcal_wgan/trial28/weights/generator_weights_epoch_1975_bs_128_lr_0.00005_latent_100_ncritic_5_clip_0.01.h5'"
   ]
  },
  {
   "cell_type": "code",
   "execution_count": 132,
   "metadata": {},
   "outputs": [
    {
     "name": "stderr",
     "output_type": "stream",
     "text": [
      "Using TensorFlow backend.\n"
     ]
    }
   ],
   "source": [
    "g = loadModel(gen_model2)"
   ]
  },
  {
   "cell_type": "code",
   "execution_count": 134,
   "metadata": {},
   "outputs": [],
   "source": [
    "g.load_weights(g_weight2)"
   ]
  },
  {
   "cell_type": "code",
   "execution_count": 135,
   "metadata": {},
   "outputs": [],
   "source": [
    "latent_space=100\n",
    "noise = np.random.normal(0, 1, (n_samples, latent_space))\n",
    "generated_images = g.predict(noise)"
   ]
  },
  {
   "cell_type": "code",
   "execution_count": 137,
   "metadata": {},
   "outputs": [
    {
     "name": "stderr",
     "output_type": "stream",
     "text": [
      "/usr/local/lib/python3.5/dist-packages/ipykernel_launcher.py:4: RuntimeWarning: invalid value encountered in power\n",
      "  after removing the cwd from sys.path.\n"
     ]
    }
   ],
   "source": [
    "gen_means, gen_variances = getValues(generated_images)"
   ]
  },
  {
   "cell_type": "code",
   "execution_count": 138,
   "metadata": {},
   "outputs": [
    {
     "data": {
      "text/plain": [
       "[(17.619482, 44.75483, 9.537567629748757, nan),\n",
       " (17.619482, 49.20205, 9.1201189466989, nan),\n",
       " (5.1256676, 9.539216, 9.345555704010238, 8.24635462614802)]"
      ]
     },
     "execution_count": 138,
     "metadata": {},
     "output_type": "execute_result"
    }
   ],
   "source": [
    "gen_means"
   ]
  },
  {
   "cell_type": "code",
   "execution_count": 139,
   "metadata": {},
   "outputs": [
    {
     "data": {
      "text/plain": [
       "[(36.40238, 190.59827, 0.11858941470138053, nan),\n",
       " (36.402378, 350.87433, 0.19429514030963982, nan),\n",
       " (3.0806644, 7.619668, 0.08060175747151767, 0.04693600884458367)]"
      ]
     },
     "execution_count": 139,
     "metadata": {},
     "output_type": "execute_result"
    }
   ],
   "source": [
    "gen_variances"
   ]
  },
  {
   "cell_type": "code",
   "execution_count": 147,
   "metadata": {},
   "outputs": [],
   "source": [
    "sum2 = 0\n",
    "sum1 = 0\n",
    "for i in range(2):\n",
    "    sum2 += sum1\n",
    "    sum1 = 0\n",
    "    for j in range(3):\n",
    "        sum1 += (gen_means[i][j] - real_means[i][j]) / (gen_variances[i][j] + real_variances[i][j])"
   ]
  },
  {
   "cell_type": "code",
   "execution_count": 148,
   "metadata": {},
   "outputs": [
    {
     "data": {
      "text/plain": [
       "-4.937375891939011"
      ]
     },
     "execution_count": 148,
     "metadata": {},
     "output_type": "execute_result"
    }
   ],
   "source": [
    "sum2"
   ]
  },
  {
   "cell_type": "code",
   "execution_count": 157,
   "metadata": {},
   "outputs": [],
   "source": [
    "def getSum(real_means, real_variances, gen_means, gen_variances):\n",
    "    sum2 = 0\n",
    "    sum1 = 0\n",
    "    for i in range(2):\n",
    "        sum2 += sum1\n",
    "        sum1 = 0\n",
    "        for j in range(3):\n",
    "            sum1 += (gen_means[i][j] - real_means[i][j]) / (gen_variances[i][j] + real_variances[i][j])\n",
    "    \n",
    "    return sum2"
   ]
  },
  {
   "cell_type": "code",
   "execution_count": 158,
   "metadata": {},
   "outputs": [],
   "source": [
    "s = getSum(real_means, real_variances, gen_means, gen_variances)"
   ]
  },
  {
   "cell_type": "code",
   "execution_count": 159,
   "metadata": {},
   "outputs": [
    {
     "data": {
      "text/plain": [
       "-4.937375891939011"
      ]
     },
     "execution_count": 159,
     "metadata": {},
     "output_type": "execute_result"
    }
   ],
   "source": [
    "s"
   ]
  },
  {
   "cell_type": "code",
   "execution_count": 160,
   "metadata": {},
   "outputs": [],
   "source": [
    "def sums(inp, all_g_weight, gen_model, n_samples=200):\n",
    "    g = loadModel(gen_model)\n",
    "    latent_space=100\n",
    "    noise = np.random.normal(0, 1, (n_samples, latent_space))\n",
    "    \n",
    "    sums = []\n",
    "\n",
    "    for w in glob.glob(all_g_weight):\n",
    "        epoch = w.split('/')[-1].split('_')[3]\n",
    "        g.load_weights(w)\n",
    "        generated_images = g.predict(noise)\n",
    "        \n",
    "        real_means, real_variances = getValues(inp)\n",
    "        gen_means, gen_variances = getValues(generated_images)\n",
    "        \n",
    "        s = getSum(real_means, real_variances, gen_means, gen_variances)\n",
    "        sums.append(s)\n",
    "        \n",
    "    return sums"
   ]
  },
  {
   "cell_type": "code",
   "execution_count": 161,
   "metadata": {},
   "outputs": [],
   "source": [
    "all_g_weight2 = '/nfshome/vitoriabp/hgcal_wgan/trial28/weights/generator_weights_epoch_*.h5'"
   ]
  },
  {
   "cell_type": "code",
   "execution_count": 162,
   "metadata": {},
   "outputs": [
    {
     "name": "stderr",
     "output_type": "stream",
     "text": [
      "/usr/local/lib/python3.5/dist-packages/ipykernel_launcher.py:4: RuntimeWarning: invalid value encountered in power\n",
      "  after removing the cwd from sys.path.\n"
     ]
    }
   ],
   "source": [
    "ss = sums(X, all_g_weight2, gen_model2)"
   ]
  },
  {
   "cell_type": "code",
   "execution_count": 165,
   "metadata": {},
   "outputs": [
    {
     "data": {
      "text/plain": [
       "<matplotlib.text.Text at 0x7fa5bc7a6048>"
      ]
     },
     "execution_count": 165,
     "metadata": {},
     "output_type": "execute_result"
    },
    {
     "data": {
      "image/png": "[encoded data removed]",
      "text/plain": [
       "<matplotlib.figure.Figure at 0x7fa5bc7e1c18>"
      ]
     },
     "metadata": {},
     "output_type": "display_data"
    }
   ],
   "source": [
    "plt.plot(ss)\n",
    "plt.xlabel(\"Epoch\")\n",
    "plt.ylabel(\"Score\")"
   ]
  },
  {
   "cell_type": "code",
   "execution_count": null,
   "metadata": {},
   "outputs": [],
   "source": []
  }
 ],
 "metadata": {
  "kernelspec": {
   "display_name": "Python 3",
   "language": "python",
   "name": "python3"
  },
  "language_info": {
   "codemirror_mode": {
    "name": "ipython",
    "version": 3
   },
   "file_extension": ".py",
   "mimetype": "text/x-python",
   "name": "python",
   "nbconvert_exporter": "python",
   "pygments_lexer": "ipython3",
   "version": "3.5.2"
  }
 },
 "nbformat": 4,
 "nbformat_minor": 2
}
